{
 "cells": [
  {
   "cell_type": "code",
   "execution_count": 2,
   "metadata": {},
   "outputs": [],
   "source": [
    "import requests\n",
    "import pandas as pd\n",
    "import re\n",
    "def send_request(word):\n",
    "    url = \"https://www.maajim.com/dictionary/\"+word\n",
    "    payload={}\n",
    "    headers = {}\n",
    "    response = requests.request(\"GET\", url, headers=headers, data=payload)\n",
    "    return response\n",
    "def get_root(response):\n",
    "    pattern=r\"<p>جذر.*</p>\"\n",
    "    div_root_html=re.findall(pattern,str(response.text))\n",
    "        \n",
    "    return re.findall(\"\\w+\",div_root_html[0])[2]\n",
    "\n",
    "def root_word(word):\n",
    "    response=send_request(word)\n",
    "    root=get_root(response)\n",
    "    return root \n",
    "def get_for_all(list_words):\n",
    "    dic={}\n",
    "    for word in list_words:\n",
    "        try:\n",
    "            dic[word]=root_word(word)\n",
    "        except:\n",
    "            print(\"---error in word---\",word)\n",
    "            dic[word]=None\n",
    "    return dic "
   ]
  },
  {
   "cell_type": "code",
   "execution_count": 5,
   "metadata": {},
   "outputs": [],
   "source": [
    "words=pd.read_csv(\"words_usefull.csv\",names=[\"words\"])"
   ]
  },
  {
   "cell_type": "code",
   "execution_count": 6,
   "metadata": {},
   "outputs": [
    {
     "data": {
      "text/html": [
       "<div>\n",
       "<style scoped>\n",
       "    .dataframe tbody tr th:only-of-type {\n",
       "        vertical-align: middle;\n",
       "    }\n",
       "\n",
       "    .dataframe tbody tr th {\n",
       "        vertical-align: top;\n",
       "    }\n",
       "\n",
       "    .dataframe thead th {\n",
       "        text-align: right;\n",
       "    }\n",
       "</style>\n",
       "<table border=\"1\" class=\"dataframe\">\n",
       "  <thead>\n",
       "    <tr style=\"text-align: right;\">\n",
       "      <th></th>\n",
       "      <th>words</th>\n",
       "    </tr>\n",
       "  </thead>\n",
       "  <tbody>\n",
       "    <tr>\n",
       "      <th>0</th>\n",
       "      <td>ئيلي</td>\n",
       "    </tr>\n",
       "    <tr>\n",
       "      <th>1</th>\n",
       "      <td>اءكد</td>\n",
       "    </tr>\n",
       "    <tr>\n",
       "      <th>2</th>\n",
       "      <td>اءمن</td>\n",
       "    </tr>\n",
       "    <tr>\n",
       "      <th>3</th>\n",
       "      <td>ائتلاف</td>\n",
       "    </tr>\n",
       "    <tr>\n",
       "      <th>4</th>\n",
       "      <td>ائمه</td>\n",
       "    </tr>\n",
       "    <tr>\n",
       "      <th>...</th>\n",
       "      <td>...</td>\n",
       "    </tr>\n",
       "    <tr>\n",
       "      <th>68585</th>\n",
       "      <td>ﻳﻜﻮﻥ</td>\n",
       "    </tr>\n",
       "    <tr>\n",
       "      <th>68586</th>\n",
       "      <td>ﻳﻤﻜﻦ</td>\n",
       "    </tr>\n",
       "    <tr>\n",
       "      <th>68587</th>\n",
       "      <td>ﻳﻮﺟﺪ</td>\n",
       "    </tr>\n",
       "    <tr>\n",
       "      <th>68588</th>\n",
       "      <td>ﻳﻮﻡ</td>\n",
       "    </tr>\n",
       "    <tr>\n",
       "      <th>68589</th>\n",
       "      <td>ﻳﻮﻣﺎ</td>\n",
       "    </tr>\n",
       "  </tbody>\n",
       "</table>\n",
       "<p>68590 rows × 1 columns</p>\n",
       "</div>"
      ],
      "text/plain": [
       "        words\n",
       "0        ئيلي\n",
       "1        اءكد\n",
       "2        اءمن\n",
       "3      ائتلاف\n",
       "4        ائمه\n",
       "...       ...\n",
       "68585    ﻳﻜﻮﻥ\n",
       "68586    ﻳﻤﻜﻦ\n",
       "68587    ﻳﻮﺟﺪ\n",
       "68588     ﻳﻮﻡ\n",
       "68589    ﻳﻮﻣﺎ\n",
       "\n",
       "[68590 rows x 1 columns]"
      ]
     },
     "execution_count": 6,
     "metadata": {},
     "output_type": "execute_result"
    }
   ],
   "source": [
    "words"
   ]
  },
  {
   "cell_type": "code",
   "execution_count": null,
   "metadata": {},
   "outputs": [],
   "source": [
    "result=get_for_all(words[\"words\"].values)"
   ]
  },
  {
   "cell_type": "code",
   "execution_count": null,
   "metadata": {},
   "outputs": [],
   "source": []
  }
 ],
 "metadata": {
  "kernelspec": {
   "display_name": "Python 3",
   "language": "python",
   "name": "python3"
  },
  "language_info": {
   "codemirror_mode": {
    "name": "ipython",
    "version": 3
   },
   "file_extension": ".py",
   "mimetype": "text/x-python",
   "name": "python",
   "nbconvert_exporter": "python",
   "pygments_lexer": "ipython3",
   "version": "3.7.10"
  }
 },
 "nbformat": 4,
 "nbformat_minor": 4
}
